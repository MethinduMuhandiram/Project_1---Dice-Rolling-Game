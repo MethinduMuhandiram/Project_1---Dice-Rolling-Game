{
 "cells": [
  {
   "cell_type": "code",
   "execution_count": 167,
   "metadata": {},
   "outputs": [],
   "source": [
    "import random\n",
    "\n",
    "rounds = 1\n",
    "players = 1\n",
    "def dice_roll(): \n",
    "    \"\"\" Three players are rolling 3 dices, three times.\n",
    "        The player who gets the highest score wins.\n",
    "    \"\"\"\n",
    "\n",
    "    for players in range (1,4):     # 1 <= range < 4 , for three players\n",
    "        total = 0        # initial total score is 0\n",
    "        city_list = ['CMB', 'TYK', 'NY', 'LON', 'ATN', 'SYN'] \n",
    "        # CMB - Colombo, TYK - Tokyo, NY - NewYork, LON -london, ATN - Athens, SYN - Sydny\n",
    "        for rounds in range (1,4):  # Each player rolles the dice for three times. \n",
    "            \n",
    "            dice_1 = random.randint(1,6)  \n",
    "            # dice 1 - labeled with 1 to 6 numbers.\n",
    "            dice_2 = random.choice(city_list) \n",
    "            # dice 2 - labeled with the names of 6 cities using city codes.\n",
    "            dice_3 = random.choice([True, False]) \n",
    "            # dice 3 - labeled with or False values.\n",
    "            output = dice_1, dice_2, dice_3   \n",
    "            # get the output of the result for each rolling event.\n",
    "\n",
    "            print (\"Player \",players,\"---- Round \", rounds ,\"----\", output)\n",
    "            \n",
    "            \"\"\" for each player if the dice_3 output is True; the dice_1's value is multiplied by (+1),\n",
    "            if the dice_3 output is False; the dice_1's value is multiplied by (-1).\n",
    "            \"\"\"\n",
    "            if dice_3 == True:           \n",
    "                total = total + dice_1\n",
    "            else:\n",
    "                total = total - dice_1\n",
    "                \n",
    "        print(\"Total score = \",total)  # printing the total score of each player.\n",
    "            "
   ]
  },
  {
   "cell_type": "code",
   "execution_count": 168,
   "metadata": {},
   "outputs": [
    {
     "name": "stdout",
     "output_type": "stream",
     "text": [
      "Player  1 ---- Round  1 ---- (5, 'CMB', False)\n",
      "Player  1 ---- Round  2 ---- (1, 'SYN', True)\n",
      "Player  1 ---- Round  3 ---- (2, 'NY', True)\n",
      "Total score =  -2\n",
      "Player  2 ---- Round  1 ---- (2, 'TYK', False)\n",
      "Player  2 ---- Round  2 ---- (1, 'ATN', True)\n",
      "Player  2 ---- Round  3 ---- (1, 'LON', False)\n",
      "Total score =  -2\n",
      "Player  3 ---- Round  1 ---- (2, 'ATN', True)\n",
      "Player  3 ---- Round  2 ---- (5, 'SYN', False)\n",
      "Player  3 ---- Round  3 ---- (5, 'ATN', True)\n",
      "Total score =  2\n"
     ]
    }
   ],
   "source": [
    "dice_roll()"
   ]
  },
  {
   "cell_type": "code",
   "execution_count": null,
   "metadata": {},
   "outputs": [],
   "source": []
  }
 ],
 "metadata": {
  "kernelspec": {
   "display_name": "Python 3",
   "language": "python",
   "name": "python3"
  },
  "language_info": {
   "codemirror_mode": {
    "name": "ipython",
    "version": 3
   },
   "file_extension": ".py",
   "mimetype": "text/x-python",
   "name": "python",
   "nbconvert_exporter": "python",
   "pygments_lexer": "ipython3",
   "version": "3.7.4"
  }
 },
 "nbformat": 4,
 "nbformat_minor": 2
}
